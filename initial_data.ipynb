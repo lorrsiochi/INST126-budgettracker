"""
    Lorraine Siochi, Emi Vo, Grace Zhang
    INST126 Personal Budget Tracker
    16 December 2017
"""

#This program will receive the initial data to create a budget tracker.

print("Welcome to your personal budget tracker!")

first_name = input("Enter first name: ")
last_name = input("Enter last name: ")

income_str = input("How many incomes do you have?")
income_num = int(income_str)

